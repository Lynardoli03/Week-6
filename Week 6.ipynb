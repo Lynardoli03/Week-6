{
 "cells": [
  {
   "cell_type": "markdown",
   "id": "08a100dd",
   "metadata": {},
   "source": [
    "# Algorithm workbench problem 1\n",
    "Write a program that opens a output file with the filename me_name.txt, writes your name to the file,then closes the file"
   ]
  },
  {
   "cell_type": "code",
   "execution_count": 1,
   "id": "90f7cfc8",
   "metadata": {},
   "outputs": [],
   "source": [
    "with open (\"my_name.txt\",\"w\") as file: #this line will open up the file with the corresponding name\n",
    "    file.write(\"Lynard\") #this line will write my name out in the file"
   ]
  },
  {
   "cell_type": "markdown",
   "id": "cdb76bd4",
   "metadata": {},
   "source": [
    " I first wrote the file along with the instructions to open the file. I the instructed what should be within the file."
   ]
  },
  {
   "cell_type": "markdown",
   "id": "4ec7c267",
   "metadata": {},
   "source": [
    "# Problem #2\n",
    "Write a program that opens the my_name.txt file that was created by the program in problem 1, reads your name from the file, displays the naje on the screen, then closes the file.\n"
   ]
  },
  {
   "cell_type": "code",
   "execution_count": 2,
   "id": "1d13dbf5",
   "metadata": {},
   "outputs": [
    {
     "name": "stdout",
     "output_type": "stream",
     "text": [
      "Lynard\n"
     ]
    }
   ],
   "source": [
    "# i want it to open the file in read mode\n",
    "with open(\"my_name.txt\", \"r\") as file:\n",
    "    name = file.read()   #its going to read the name from the file.\n",
    "    \n",
    "    #It will display the name on the screen\n",
    "print (name)\n",
    "              #The file closes by itself with the with block"
   ]
  },
  {
   "cell_type": "markdown",
   "id": "9db7cae3",
   "metadata": {},
   "source": [
    "# Programming excersises problem 1\n",
    "Assume a file containing a series of intergers is named numbers.txt and exists on the computers disk. Write a program that displays all of the numbers in the file"
   ]
  },
  {
   "cell_type": "code",
   "execution_count": 4,
   "id": "a3089f12",
   "metadata": {},
   "outputs": [
    {
     "ename": "IndentationError",
     "evalue": "expected an indented block after 'for' statement on line 5 (3483182958.py, line 6)",
     "output_type": "error",
     "traceback": [
      "\u001b[0;36m  Cell \u001b[0;32mIn[4], line 6\u001b[0;36m\u001b[0m\n\u001b[0;31m    print(line.strip()) #Strip any extra whitespace and print the number\u001b[0m\n\u001b[0m                                                                        ^\u001b[0m\n\u001b[0;31mIndentationError\u001b[0m\u001b[0;31m:\u001b[0m expected an indented block after 'for' statement on line 5\n"
     ]
    }
   ],
   "source": [
    "with open(\"numbers.txt\", \"r\") as file:      #the file already opens in read mode\n",
    "    lines = file.readlines() #read all lines from the file\n",
    "    \n",
    "\n",
    "    for line in lines:   #it will read through each line and print the number\n",
    "print(line.strip()) #Strip any extra whitespace and print the number\n",
    "# the file automatically closes at "
   ]
  },
  {
   "cell_type": "markdown",
   "id": "daf1046a",
   "metadata": {},
   "source": [
    "# Problem #6\n",
    "Assume a file containing a series of intergers is named numbers.txt and exists on the computers disk. Write a program that calculates the average of all numbers stored in the file"
   ]
  },
  {
   "cell_type": "code",
   "execution_count": 7,
   "id": "ccf57c4e",
   "metadata": {},
   "outputs": [
    {
     "ename": "SyntaxError",
     "evalue": "unterminated string literal (detected at line 5) (3338185895.py, line 5)",
     "output_type": "error",
     "traceback": [
      "\u001b[0;36m  Cell \u001b[0;32mIn[7], line 5\u001b[0;36m\u001b[0m\n\u001b[0;31m    with open(\"numbers.txt, \"r\") as file:\u001b[0m\n\u001b[0m                             ^\u001b[0m\n\u001b[0;31mSyntaxError\u001b[0m\u001b[0;31m:\u001b[0m unterminated string literal (detected at line 5)\n"
     ]
    }
   ],
   "source": [
    "total = 0\n",
    "count = 0\n",
    "#telling the variables to store the sum and count of numbers\n",
    "\n",
    "with open(\"numbers.txt, \"r\") as file:\n",
    "#Opens the file in read mode\n",
    "    lines = file.readlines()\n",
    "#Read all lines from the file\n",
    "\n",
    "#read each line from the file \n",
    "for line in lines:\n",
    "#add to the total while converting to a interger\n",
    "     number = int(line.strip())\n",
    "     total += number\n",
    "     count += 1\n",
    "          \n",
    "          #it will now calculate the average\n",
    "if count > 0:\n",
    "    average = total / count\n",
    "          #This line ensures it prints the average\n",
    "          print (f\"The average is: {average}\")\n",
    "    else:\n",
    "          print(\"The file is empty or contains no valid numbers\")\n",
    "        #The file is automatically closed when the block ends at the end\n",
    "          \n",
    "    "
   ]
  },
  {
   "cell_type": "markdown",
   "id": "07f2860a",
   "metadata": {},
   "source": [
    "# Problem #9\n",
    "Modify the program that was previously written so it handles the following expectations. it should handle any IO error expectations that are raised when the file is opened and data is read from it. it should handle any value error exceptions that are raised when the items that are read from the file are converted to a number."
   ]
  },
  {
   "cell_type": "code",
   "execution_count": 8,
   "id": "5539bc01",
   "metadata": {},
   "outputs": [
    {
     "ename": "SyntaxError",
     "evalue": "unterminated string literal (detected at line 29) (1541335571.py, line 29)",
     "output_type": "error",
     "traceback": [
      "\u001b[0;36m  Cell \u001b[0;32mIn[8], line 29\u001b[0;36m\u001b[0m\n\u001b[0;31m    print(\"Error: unable to read the file 'numbers.txt'. )\u001b[0m\n\u001b[0m          ^\u001b[0m\n\u001b[0;31mSyntaxError\u001b[0m\u001b[0;31m:\u001b[0m unterminated string literal (detected at line 29)\n"
     ]
    }
   ],
   "source": [
    "try:\n",
    "    total = 0\n",
    "    count = 0     #intitialize variables to store sum/count\n",
    "    \n",
    "    with open(\"number.txt,\" \"r\") as file:\n",
    "        #read through all lines from the file\n",
    "        lines = file.readlines()\n",
    "        \n",
    "    #read through each line\n",
    "    for line in lines:\n",
    "        try:\n",
    "            #I am converting the line to a interger and adding to the total\n",
    "            number + int(line.strip())\n",
    "            total += number\n",
    "            count += 1\n",
    "        except value error:\n",
    "            #Will say this if the line is not a valid interger\n",
    "            print (f\"warning: '{line.strip()}' is not a valid number and will be skipped\")\n",
    "            \n",
    "            #this line will calculate the average\n",
    "            if count > 0:\n",
    "                average = total / count\n",
    "                #print the average\n",
    "            print (f\"The average is: {average}\")\n",
    "        else:\n",
    "            print (\"The file is empty or contains no valid numbers.\")\n",
    "        except IOError:\n",
    "            #this is if the file canot be read or opened. If its invalid\n",
    "        print(\"Error: unable to read the file 'numbers.txt'. )\n",
    "        \n",
    "         \n",
    "    "
   ]
  },
  {
   "cell_type": "code",
   "execution_count": null,
   "id": "ce114e1a",
   "metadata": {},
   "outputs": [],
   "source": []
  }
 ],
 "metadata": {
  "kernelspec": {
   "display_name": "Python 3 (ipykernel)",
   "language": "python",
   "name": "python3"
  },
  "language_info": {
   "codemirror_mode": {
    "name": "ipython",
    "version": 3
   },
   "file_extension": ".py",
   "mimetype": "text/x-python",
   "name": "python",
   "nbconvert_exporter": "python",
   "pygments_lexer": "ipython3",
   "version": "3.11.7"
  }
 },
 "nbformat": 4,
 "nbformat_minor": 5
}
